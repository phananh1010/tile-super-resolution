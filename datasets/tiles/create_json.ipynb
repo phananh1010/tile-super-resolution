{
 "cells": [
  {
   "cell_type": "code",
   "execution_count": 6,
   "metadata": {},
   "outputs": [],
   "source": [
    "import glob\n",
    "import numpy as np\n",
    "import os\n",
    "import zipfile\n",
    "import contextlib\n",
    "import json\n",
    "\n",
    "def get_filecount_from_zip(filepath):\n",
    "    with contextlib.closing(zipfile.ZipFile(filepath)) as archive:\n",
    "        count = len(archive.infolist())\n",
    "        return count"
   ]
  },
  {
   "cell_type": "code",
   "execution_count": 2,
   "metadata": {},
   "outputs": [],
   "source": [
    "filepath_list = glob.glob('./JPEGImages/*.zip')\n",
    "filename_list = [item.split('/')[-1].replace('.zip', '') for item in filepath_list]\n",
    "\n",
    "idx_list = list(range(len(filename_list)))\n",
    "np.random.shuffle(idx_list)\n",
    "filepath_list = [filepath_list[idx] for idx in idx_list]\n",
    "filename_list = [filename_list[idx] for idx in idx_list]"
   ]
  },
  {
   "cell_type": "code",
   "execution_count": 3,
   "metadata": {},
   "outputs": [],
   "source": [
    "result = {filename_list[idx]:get_filecount_from_zip(filepath_list[idx])-3 for idx in list(range(len(filepath_list)))}"
   ]
  },
  {
   "cell_type": "code",
   "execution_count": 7,
   "metadata": {},
   "outputs": [
    {
     "name": "stdout",
     "output_type": "stream",
     "text": [
      "total samples:  220\n"
     ]
    }
   ],
   "source": [
    "PARTITION = 0\n",
    "\n",
    "key_list = list(result.keys())\n",
    "result_test = {item:result[item] for item in key_list[:PARTITION ]}\n",
    "result_train = {item:result[item] for item in key_list[PARTITION :]}\n",
    "print ('total samples: ', len(key_list))"
   ]
  },
  {
   "cell_type": "code",
   "execution_count": 15,
   "metadata": {},
   "outputs": [],
   "source": [
    "result_train_str = json.dumps(result_train)\n",
    "with open('./train.json', 'w') as file:\n",
    "    file.write(result_train_str)"
   ]
  },
  {
   "cell_type": "code",
   "execution_count": 16,
   "metadata": {},
   "outputs": [],
   "source": [
    "result_test_str = json.dumps(result_test)\n",
    "with open('./test.json', 'w') as file:\n",
    "    file.write(result_train_str)"
   ]
  },
  {
   "cell_type": "code",
   "execution_count": null,
   "metadata": {},
   "outputs": [],
   "source": []
  }
 ],
 "metadata": {
  "kernelspec": {
   "display_name": "Python (env_pytorch_python3)",
   "language": "python",
   "name": "env_pytorch_python3"
  },
  "language_info": {
   "codemirror_mode": {
    "name": "ipython",
    "version": 3
   },
   "file_extension": ".py",
   "mimetype": "text/x-python",
   "name": "python",
   "nbconvert_exporter": "python",
   "pygments_lexer": "ipython3",
   "version": "3.7.4"
  }
 },
 "nbformat": 4,
 "nbformat_minor": 2
}
