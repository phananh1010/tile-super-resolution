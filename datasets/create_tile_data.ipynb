{
 "cells": [
  {
   "cell_type": "code",
   "execution_count": 6,
   "metadata": {},
   "outputs": [],
   "source": [
    "#write script to cut video into tiles\n",
    "import os"
   ]
  },
  {
   "cell_type": "markdown",
   "metadata": {},
   "source": [
    "# Variables declaration"
   ]
  },
  {
   "cell_type": "code",
   "execution_count": 7,
   "metadata": {},
   "outputs": [],
   "source": [
    "W, H = 3840, 2048\n",
    "dtile = 192"
   ]
  },
  {
   "cell_type": "code",
   "execution_count": 8,
   "metadata": {},
   "outputs": [
    {
     "data": {
      "text/plain": [
       "220"
      ]
     },
     "execution_count": 8,
     "metadata": {},
     "output_type": "execute_result"
    }
   ],
   "source": [
    "tile_list =[(i, j) for i in range(0, W, dtile) for j in range(0, H, dtile)]\n",
    "len(tile_list)"
   ]
  },
  {
   "cell_type": "code",
   "execution_count": 9,
   "metadata": {},
   "outputs": [],
   "source": [
    "vidname = \"panel\"#sport, \n",
    "duration  =2#seconds\n",
    "t_start   = 0\n",
    "t_end     = 60"
   ]
  },
  {
   "cell_type": "code",
   "execution_count": null,
   "metadata": {},
   "outputs": [],
   "source": []
  },
  {
   "cell_type": "markdown",
   "metadata": {},
   "source": [
    "# Create video segment from raw input vidoe\n"
   ]
  },
  {
   "cell_type": "code",
   "execution_count": 10,
   "metadata": {
    "scrolled": true
   },
   "outputs": [
    {
     "name": "stdout",
     "output_type": "stream",
     "text": [
      "Creating segments from 0 to 60, with 2 duration for panel\n",
      "./create_segment.sh ./vids/panel.mp4 00:00:00 00:00:02 ./segment_vids/panel_00_2.mp4\n",
      "./create_segment.sh ./vids/panel.mp4 00:00:02 00:00:02 ./segment_vids/panel_02_2.mp4\n",
      "./create_segment.sh ./vids/panel.mp4 00:00:04 00:00:02 ./segment_vids/panel_04_2.mp4\n",
      "./create_segment.sh ./vids/panel.mp4 00:00:06 00:00:02 ./segment_vids/panel_06_2.mp4\n",
      "./create_segment.sh ./vids/panel.mp4 00:00:08 00:00:02 ./segment_vids/panel_08_2.mp4\n",
      "./create_segment.sh ./vids/panel.mp4 00:00:10 00:00:02 ./segment_vids/panel_10_2.mp4\n",
      "./create_segment.sh ./vids/panel.mp4 00:00:12 00:00:02 ./segment_vids/panel_12_2.mp4\n",
      "./create_segment.sh ./vids/panel.mp4 00:00:14 00:00:02 ./segment_vids/panel_14_2.mp4\n",
      "./create_segment.sh ./vids/panel.mp4 00:00:16 00:00:02 ./segment_vids/panel_16_2.mp4\n",
      "./create_segment.sh ./vids/panel.mp4 00:00:18 00:00:02 ./segment_vids/panel_18_2.mp4\n",
      "./create_segment.sh ./vids/panel.mp4 00:00:20 00:00:02 ./segment_vids/panel_20_2.mp4\n",
      "./create_segment.sh ./vids/panel.mp4 00:00:22 00:00:02 ./segment_vids/panel_22_2.mp4\n",
      "./create_segment.sh ./vids/panel.mp4 00:00:24 00:00:02 ./segment_vids/panel_24_2.mp4\n",
      "./create_segment.sh ./vids/panel.mp4 00:00:26 00:00:02 ./segment_vids/panel_26_2.mp4\n",
      "./create_segment.sh ./vids/panel.mp4 00:00:28 00:00:02 ./segment_vids/panel_28_2.mp4\n",
      "./create_segment.sh ./vids/panel.mp4 00:00:30 00:00:02 ./segment_vids/panel_30_2.mp4\n",
      "./create_segment.sh ./vids/panel.mp4 00:00:32 00:00:02 ./segment_vids/panel_32_2.mp4\n",
      "./create_segment.sh ./vids/panel.mp4 00:00:34 00:00:02 ./segment_vids/panel_34_2.mp4\n",
      "./create_segment.sh ./vids/panel.mp4 00:00:36 00:00:02 ./segment_vids/panel_36_2.mp4\n",
      "./create_segment.sh ./vids/panel.mp4 00:00:38 00:00:02 ./segment_vids/panel_38_2.mp4\n",
      "./create_segment.sh ./vids/panel.mp4 00:00:40 00:00:02 ./segment_vids/panel_40_2.mp4\n",
      "./create_segment.sh ./vids/panel.mp4 00:00:42 00:00:02 ./segment_vids/panel_42_2.mp4\n",
      "./create_segment.sh ./vids/panel.mp4 00:00:44 00:00:02 ./segment_vids/panel_44_2.mp4\n",
      "./create_segment.sh ./vids/panel.mp4 00:00:46 00:00:02 ./segment_vids/panel_46_2.mp4\n",
      "./create_segment.sh ./vids/panel.mp4 00:00:48 00:00:02 ./segment_vids/panel_48_2.mp4\n",
      "./create_segment.sh ./vids/panel.mp4 00:00:50 00:00:02 ./segment_vids/panel_50_2.mp4\n",
      "./create_segment.sh ./vids/panel.mp4 00:00:52 00:00:02 ./segment_vids/panel_52_2.mp4\n",
      "./create_segment.sh ./vids/panel.mp4 00:00:54 00:00:02 ./segment_vids/panel_54_2.mp4\n",
      "./create_segment.sh ./vids/panel.mp4 00:00:56 00:00:02 ./segment_vids/panel_56_2.mp4\n",
      "./create_segment.sh ./vids/panel.mp4 00:00:58 00:00:02 ./segment_vids/panel_58_2.mp4\n"
     ]
    }
   ],
   "source": [
    "print (f'Creating segments from {t_start} to {t_end}, with {duration} duration for {vidname}')\n",
    "\n",
    "cmd_template = './create_segment.sh ./vids/{}.mp4 00:00:{:02d} 00:00:{:02d} ./segment_vids/{}_{:02d}_{}.mp4'\n",
    "for i in range(t_start, t_end, duration):\n",
    "    cmd = cmd_template.format(vidname, i, duration, vidname, i, duration)\n",
    "    print (cmd)\n",
    "    os.system(cmd)"
   ]
  },
  {
   "cell_type": "code",
   "execution_count": 8,
   "metadata": {},
   "outputs": [],
   "source": [
    "#clean the target directory, dangeroush command, should manually execute it\n",
    "#cmd = \"rm -r ./tiles/JPEGImages/*\"\n",
    "#os.system(cmd)"
   ]
  },
  {
   "cell_type": "code",
   "execution_count": null,
   "metadata": {},
   "outputs": [],
   "source": []
  },
  {
   "cell_type": "code",
   "execution_count": null,
   "metadata": {},
   "outputs": [],
   "source": []
  },
  {
   "cell_type": "code",
   "execution_count": null,
   "metadata": {},
   "outputs": [],
   "source": []
  },
  {
   "cell_type": "code",
   "execution_count": null,
   "metadata": {},
   "outputs": [],
   "source": []
  },
  {
   "cell_type": "code",
   "execution_count": null,
   "metadata": {},
   "outputs": [],
   "source": []
  },
  {
   "cell_type": "code",
   "execution_count": null,
   "metadata": {},
   "outputs": [],
   "source": []
  },
  {
   "cell_type": "markdown",
   "metadata": {},
   "source": [
    "# Create tiles for all video segment of a video\n"
   ]
  },
  {
   "cell_type": "markdown",
   "metadata": {},
   "source": [
    "### Step 1: create sh script to generate tiles from segments"
   ]
  },
  {
   "cell_type": "code",
   "execution_count": 9,
   "metadata": {},
   "outputs": [],
   "source": [
    "#vidpath_template = \"./segment_vids/paris_8_1.mp4\"\n",
    "\n",
    "for seg_idx in range(t_start, t_end, duration):\n",
    "    with open(f'./create_all_tile_vidseg{seg_idx}.sh', 'w') as file:\n",
    "        for i, j in tile_list:\n",
    "            cmd = f\"./create_tile_vid.sh ./segment_vids/{vidname}_{seg_idx:02d}_{duration}.mp4 192 192 {i} {j}\"\n",
    "            file.write(cmd + '\\n')\n",
    "    file.close()\n",
    "    os.system(f'chmod u+x ./create_all_tile_vidseg{seg_idx}.sh')"
   ]
  },
  {
   "cell_type": "code",
   "execution_count": 10,
   "metadata": {},
   "outputs": [],
   "source": [
    "with open(f'./create_all_tile_vid.sh', 'w') as file:\n",
    "    for i in range(t_start, t_end, duration):\n",
    "        cmd = f\"./create_all_tile_vidseg{i}.sh\"\n",
    "        file.write(cmd + '\\n')\n",
    "    file.write('rm ./create_all_tile_vidseg*.sh')\n",
    "    file.close()\n",
    "    os.system(f'chmod u+x ./create_all_tile_vid.sh')"
   ]
  },
  {
   "cell_type": "markdown",
   "metadata": {},
   "source": [
    "### Step 2: go to terminal and execute the create_all_tile_vid.sh file"
   ]
  },
  {
   "cell_type": "code",
   "execution_count": null,
   "metadata": {},
   "outputs": [],
   "source": [
    "./create_all_tile_vid.sh"
   ]
  },
  {
   "cell_type": "markdown",
   "metadata": {},
   "source": [
    "### Step 3: MOVE the video directory containing all tiles, to vr-streaming-gan project folder"
   ]
  },
  {
   "cell_type": "code",
   "execution_count": null,
   "metadata": {},
   "outputs": [],
   "source": [
    "mv ./<video_name> ../vr-streaming-gan/datasets/tile-vids/"
   ]
  },
  {
   "cell_type": "code",
   "execution_count": null,
   "metadata": {},
   "outputs": [],
   "source": []
  }
 ],
 "metadata": {
  "kernelspec": {
   "display_name": "Python (env_pytorch_python3)",
   "language": "python",
   "name": "env_pytorch_python3"
  },
  "language_info": {
   "codemirror_mode": {
    "name": "ipython",
    "version": 3
   },
   "file_extension": ".py",
   "mimetype": "text/x-python",
   "name": "python",
   "nbconvert_exporter": "python",
   "pygments_lexer": "ipython3",
   "version": "3.7.4"
  }
 },
 "nbformat": 4,
 "nbformat_minor": 2
}
