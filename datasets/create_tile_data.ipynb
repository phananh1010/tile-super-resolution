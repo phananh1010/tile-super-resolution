{
 "cells": [
  {
   "cell_type": "code",
   "execution_count": 1,
   "metadata": {},
   "outputs": [],
   "source": [
    "#write script to cut video into tiles\n",
    "import os"
   ]
  },
  {
   "cell_type": "code",
   "execution_count": 4,
   "metadata": {},
   "outputs": [],
   "source": [
    "W, H = 3840, 2048\n",
    "dtile = 192"
   ]
  },
  {
   "cell_type": "code",
   "execution_count": 9,
   "metadata": {},
   "outputs": [
    {
     "data": {
      "text/plain": [
       "220"
      ]
     },
     "execution_count": 9,
     "metadata": {},
     "output_type": "execute_result"
    }
   ],
   "source": [
    "tile_list =[(i, j) for i in range(0, W, dtile) for j in range(0, H, dtile)]\n",
    "len(tile_list)"
   ]
  },
  {
   "cell_type": "code",
   "execution_count": 18,
   "metadata": {},
   "outputs": [
    {
     "data": {
      "text/plain": [
       "0"
      ]
     },
     "execution_count": 18,
     "metadata": {},
     "output_type": "execute_result"
    }
   ],
   "source": [
    "#clean the target directory, dangeroush command, should manually execute it\n",
    "#cmd = \"rm -r ./tiles/JPEGImages/*\"\n",
    "#os.system(cmd)"
   ]
  },
  {
   "cell_type": "code",
   "execution_count": 29,
   "metadata": {},
   "outputs": [
    {
     "data": {
      "text/plain": [
       "0"
      ]
     },
     "execution_count": 29,
     "metadata": {},
     "output_type": "execute_result"
    }
   ],
   "source": [
    "vidpath_template = \"./segment_vids/paris_8_1.mp4\"\n",
    "with open('create_all_tile_data.sh', 'w') as file:\n",
    "    for i, j in tile_list:\n",
    "        cmd = f\"./create_tile_data.sh ./segment_vids/paris_8_1.mp4 192 192 {i} {j}\"\n",
    "        file.write(cmd + '\\n')\n",
    "file.close\n",
    "os.system('chmod u+x ./create_all_tile_data.sh')"
   ]
  },
  {
   "cell_type": "code",
   "execution_count": 26,
   "metadata": {},
   "outputs": [
    {
     "name": "stdout",
     "output_type": "stream",
     "text": [
      "/bin/sh: 1: cmd: not found\r\n"
     ]
    }
   ],
   "source": [
    "#NOTE: if notebook cannot execute create_all_tile_data.sh, \n",
    "#    manually execute this file in the terminal\n",
    "os.system('./create_all_tile_data.sh')"
   ]
  },
  {
   "cell_type": "code",
   "execution_count": null,
   "metadata": {},
   "outputs": [],
   "source": []
  }
 ],
 "metadata": {
  "kernelspec": {
   "display_name": "Python (env_pytorch_python3)",
   "language": "python",
   "name": "env_pytorch_python3"
  },
  "language_info": {
   "codemirror_mode": {
    "name": "ipython",
    "version": 3
   },
   "file_extension": ".py",
   "mimetype": "text/x-python",
   "name": "python",
   "nbconvert_exporter": "python",
   "pygments_lexer": "ipython3",
   "version": "3.7.4"
  }
 },
 "nbformat": 4,
 "nbformat_minor": 2
}
